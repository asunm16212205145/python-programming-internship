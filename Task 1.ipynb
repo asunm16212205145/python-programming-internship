{
 "cells": [
  {
   "cell_type": "code",
   "execution_count": 1,
   "id": "0a730f32-1359-4457-8cfd-0dd0ed1da7f3",
   "metadata": {},
   "outputs": [
    {
     "name": "stdout",
     "output_type": "stream",
     "text": [
      "Welcome to Hangman!\n",
      "\n",
      "Word: _ _ _ _ _ _\n",
      "Incorrect Guesses: 0/6\n"
     ]
    },
    {
     "name": "stdin",
     "output_type": "stream",
     "text": [
      "Guess a letter:  p\n"
     ]
    },
    {
     "name": "stdout",
     "output_type": "stream",
     "text": [
      "Correct guess!\n",
      "\n",
      "Word: p _ _ _ _ _\n",
      "Incorrect Guesses: 0/6\n"
     ]
    },
    {
     "name": "stdin",
     "output_type": "stream",
     "text": [
      "Guess a letter:  o\n"
     ]
    },
    {
     "name": "stdout",
     "output_type": "stream",
     "text": [
      "Correct guess!\n",
      "\n",
      "Word: p _ _ _ o _\n",
      "Incorrect Guesses: 0/6\n"
     ]
    },
    {
     "name": "stdin",
     "output_type": "stream",
     "text": [
      "Guess a letter:  g\n"
     ]
    },
    {
     "name": "stdout",
     "output_type": "stream",
     "text": [
      "Incorrect guess.\n",
      "\n",
      "Word: p _ _ _ o _\n",
      "Incorrect Guesses: 1/6\n"
     ]
    },
    {
     "name": "stdin",
     "output_type": "stream",
     "text": [
      "Guess a letter:  y\n"
     ]
    },
    {
     "name": "stdout",
     "output_type": "stream",
     "text": [
      "Correct guess!\n",
      "\n",
      "Word: p y _ _ o _\n",
      "Incorrect Guesses: 1/6\n"
     ]
    },
    {
     "name": "stdin",
     "output_type": "stream",
     "text": [
      "Guess a letter:  t\n"
     ]
    },
    {
     "name": "stdout",
     "output_type": "stream",
     "text": [
      "Correct guess!\n",
      "\n",
      "Word: p y t _ o _\n",
      "Incorrect Guesses: 1/6\n"
     ]
    },
    {
     "name": "stdin",
     "output_type": "stream",
     "text": [
      "Guess a letter:  h\n"
     ]
    },
    {
     "name": "stdout",
     "output_type": "stream",
     "text": [
      "Correct guess!\n",
      "\n",
      "Word: p y t h o _\n",
      "Incorrect Guesses: 1/6\n"
     ]
    },
    {
     "name": "stdin",
     "output_type": "stream",
     "text": [
      "Guess a letter:  o\n"
     ]
    },
    {
     "name": "stdout",
     "output_type": "stream",
     "text": [
      "You already guessed that letter.\n",
      "\n",
      "Word: p y t h o _\n",
      "Incorrect Guesses: 1/6\n"
     ]
    },
    {
     "name": "stdin",
     "output_type": "stream",
     "text": [
      "Guess a letter:  n\n"
     ]
    },
    {
     "name": "stdout",
     "output_type": "stream",
     "text": [
      "Correct guess!\n",
      "\n",
      "Congratulations! You guessed the word: python\n"
     ]
    }
   ],
   "source": [
    "import random\n",
    "\n",
    "def choose_word():\n",
    "    words = [\"python\", \"hangman\", \"computer\", \"programming\"]\n",
    "    return random.choice(words)\n",
    "\n",
    "def display_word(word, guessed_letters):\n",
    "    return \" \".join([letter if letter in guessed_letters else \"_\" for letter in word])\n",
    "\n",
    "def hangman():\n",
    "    word = choose_word()\n",
    "    guessed_letters = set()\n",
    "    incorrect_guesses = 0\n",
    "    max_attempts = 6  \n",
    "\n",
    "    print(\"Welcome to Hangman!\")\n",
    "    \n",
    "    while incorrect_guesses < max_attempts:\n",
    "        print(\"\\nWord:\", display_word(word, guessed_letters))\n",
    "        print(f\"Incorrect Guesses: {incorrect_guesses}/{max_attempts}\")\n",
    "\n",
    "        guess = input(\"Guess a letter: \").lower()\n",
    "\n",
    "        if guess in guessed_letters:\n",
    "            print(\"You already guessed that letter.\")\n",
    "            continue\n",
    "\n",
    "        guessed_letters.add(guess)\n",
    "\n",
    "        if guess in word:\n",
    "            print(\"Correct guess!\")\n",
    "            if all(letter in guessed_letters for letter in word):\n",
    "                print(\"\\nCongratulations! You guessed the word:\", word)\n",
    "                break\n",
    "        else:\n",
    "            print(\"Incorrect guess.\")\n",
    "            incorrect_guesses += 1\n",
    "\n",
    "    else:\n",
    "        print(\"\\nGame Over! The word was:\", word)\n",
    "\n",
    "if __name__ == \"__main__\":\n",
    "    hangman()\n"
   ]
  },
  {
   "cell_type": "code",
   "execution_count": null,
   "id": "72a0dce4-4c05-42a9-b6b8-cbdf2f2af023",
   "metadata": {},
   "outputs": [],
   "source": []
  },
  {
   "cell_type": "code",
   "execution_count": null,
   "id": "dbfaa232-0170-4dc2-8768-f40a6a48de8e",
   "metadata": {},
   "outputs": [],
   "source": []
  }
 ],
 "metadata": {
  "kernelspec": {
   "display_name": "Python 3 (ipykernel)",
   "language": "python",
   "name": "python3"
  },
  "language_info": {
   "codemirror_mode": {
    "name": "ipython",
    "version": 3
   },
   "file_extension": ".py",
   "mimetype": "text/x-python",
   "name": "python",
   "nbconvert_exporter": "python",
   "pygments_lexer": "ipython3",
   "version": "3.13.1"
  }
 },
 "nbformat": 4,
 "nbformat_minor": 5
}
